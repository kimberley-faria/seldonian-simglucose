{
 "cells": [
  {
   "cell_type": "code",
   "execution_count": 1,
   "id": "61db0eb4",
   "metadata": {},
   "outputs": [
    {
     "name": "stderr",
     "output_type": "stream",
     "text": [
      "<frozen importlib._bootstrap>:228: RuntimeWarning: scipy._lib.messagestream.MessageStream size changed, may indicate binary incompatibility. Expected 56 from C header, got 64 from PyObject\n"
     ]
    }
   ],
   "source": [
    "from seldonian.spec import createRLSpec\n",
    "from seldonian.dataset import RLDataSet\n",
    "from seldonian.utils.io_utils import load_pickle"
   ]
  },
  {
   "cell_type": "code",
   "execution_count": 2,
   "id": "8af6f9c5",
   "metadata": {},
   "outputs": [],
   "source": [
    "episodes_file = './bolus_simglucose_2000_episodes_322_actions.pkl'\n",
    "episodes = load_pickle(episodes_file)\n",
    "dataset = RLDataSet(episodes=episodes)"
   ]
  },
  {
   "cell_type": "code",
   "execution_count": 3,
   "id": "69625b35",
   "metadata": {},
   "outputs": [
    {
     "data": {
      "text/plain": [
       "2000"
      ]
     },
     "execution_count": 3,
     "metadata": {},
     "output_type": "execute_result"
    }
   ],
   "source": [
    "len(episodes)"
   ]
  },
  {
   "cell_type": "code",
   "execution_count": 4,
   "id": "1e65b7e8",
   "metadata": {},
   "outputs": [
    {
     "data": {
      "text/plain": [
       "322"
      ]
     },
     "execution_count": 4,
     "metadata": {},
     "output_type": "execute_result"
    }
   ],
   "source": [
    "import numpy as np\n",
    "from itertools import product\n",
    "\n",
    "CR_ACTIONS = np.arange(3, 30, 2)\n",
    "CF_ACTIONS = np.arange(5, 50, 2)\n",
    "\n",
    "ACTIONS = [*product(CR_ACTIONS, CF_ACTIONS)]\n",
    "\n",
    "assert len(ACTIONS) == CR_ACTIONS.shape[0] * CF_ACTIONS.shape[0]\n",
    "len(ACTIONS)"
   ]
  },
  {
   "cell_type": "code",
   "execution_count": 5,
   "id": "bfe81658",
   "metadata": {},
   "outputs": [],
   "source": [
    "from seldonian.RL.Agents.Policies.Softmax import DiscreteSoftmax\n",
    "from seldonian.RL.Env_Description.Env_Description import Env_Description\n",
    "from seldonian.RL.Env_Description.Spaces import Discrete_Space"
   ]
  },
  {
   "cell_type": "code",
   "execution_count": 6,
   "id": "7fa72dc8",
   "metadata": {},
   "outputs": [
    {
     "name": "stdout",
     "output_type": "stream",
     "text": [
      "Saved .\\spec.pkl\n",
      "\n"
     ]
    }
   ],
   "source": [
    "NUM_STATES = 1\n",
    "observation_space = Discrete_Space(0, NUM_STATES - 1)\n",
    "\n",
    "NUM_ACTIONS = len(ACTIONS)    # NUM_SETTINGS in generate_data.py\n",
    "action_space = Discrete_Space(0, NUM_ACTIONS - 1)\n",
    "\n",
    "\n",
    "env_description = Env_Description(observation_space, action_space)\n",
    "policy = DiscreteSoftmax(hyperparam_and_setting_dict={}, env_description=env_description)\n",
    "env_kwargs={'gamma':1.0}\n",
    "save_dir = '.'\n",
    "constraint_strs = ['J_pi_new >= -5.0']   # New risk is grater than -10 (\n",
    "                                        # determined by looking at certain P choices)\n",
    "deltas=[0.05]\n",
    "\n",
    "spec = createRLSpec(\n",
    "    dataset=dataset,\n",
    "    policy=policy,\n",
    "    constraint_strs=constraint_strs,\n",
    "    deltas=deltas,\n",
    "    env_kwargs=env_kwargs,\n",
    "    save=True,\n",
    "    save_dir='.',\n",
    "    verbose=True)"
   ]
  },
  {
   "cell_type": "code",
   "execution_count": 7,
   "id": "42faba15",
   "metadata": {},
   "outputs": [],
   "source": [
    "from seldonian.seldonian_algorithm import SeldonianAlgorithm\n",
    "from seldonian.utils.io_utils import load_pickle"
   ]
  },
  {
   "cell_type": "code",
   "execution_count": 8,
   "id": "ff32db85",
   "metadata": {},
   "outputs": [
    {
     "name": "stdout",
     "output_type": "stream",
     "text": [
      "Safety dataset has 1200 episodes\n",
      "Candidate dataset has 800 episodes\n",
      "Iteration 0\n",
      "Passed safety test!\n",
      "The solution found is:\n",
      "[[-0.20138858 -0.20157812 -0.20159582 -0.20135109 -0.20141401 -0.20181047\n",
      "  -0.20149462 -0.20138177 -0.20180519 -0.20186632 -0.20154517 -0.20214061\n",
      "  -0.20221531 -0.20152668  0.20124616 -0.20142525  0.20111339  0.20081337\n",
      "  -0.20290821 -0.20214356 -0.2015822  -0.20157842 -0.2027144  -0.20162168\n",
      "  -0.2013908   0.2015394   0.19995398 -0.20149671 -0.20144434 -0.20147368\n",
      "  -0.20141022 -0.20148044 -0.20148253  0.20152648  0.20155766  0.20126854\n",
      "   0.20140847 -0.20305107  0.2006453   0.20121863 -0.20145545 -0.20221852\n",
      "  -0.20146276 -0.20140854  0.20142174 -0.20172684  0.20066607  0.20153504\n",
      "  -0.20192574 -0.20154058 -0.20139563  0.19356412 -0.2019346   0.20158395\n",
      "  -0.20163229  0.20151856 -0.20207836 -0.20143443 -0.20164711 -0.20140257\n",
      "  -0.20142566 -0.20145171 -0.20162942  0.19835375 -0.20179402 -0.20199241\n",
      "  -0.20140095 -0.2014706  -0.20145738 -0.20145844 -0.20250574  0.20038313\n",
      "  -0.20140696 -0.20173329 -0.20141673 -0.20158848 -0.20146507 -0.20149236\n",
      "  -0.20148293  0.20086369 -0.20175845 -0.20169609 -0.20155976 -0.20151338\n",
      "  -0.20136754 -0.20136553 -0.20141498 -0.20158577 -0.20143991 -0.20139553\n",
      "  -0.2052739   0.20123897 -0.20239995 -0.20165606 -0.20141133 -0.20270592\n",
      "  -0.20237517 -0.20153623 -0.20157451 -0.20232481 -0.20169084 -0.20137224\n",
      "  -0.20139358 -0.20138012 -0.20152363 -0.20149472 -0.20212134 -0.20147917\n",
      "  -0.20140081 -0.20221344 -0.20149866  0.20096032 -0.20151455 -0.20177037\n",
      "  -0.20179078 -0.20137317 -0.20147313 -0.20139876 -0.20151279 -0.20145968\n",
      "  -0.20143366 -0.20156978 -0.20145006 -0.20151475 -0.20137273 -0.20141114\n",
      "  -0.20142096 -0.20141171 -0.20137607 -0.20141741 -0.20143075 -0.20139873\n",
      "  -0.2015786  -0.20141642 -0.20144592  0.20148118  0.20148118  0.20148118\n",
      "   0.20148118  0.20148118  0.20148118  0.20148118  0.20148118  0.20148118\n",
      "   0.20148118  0.20148118  0.20148118  0.20148118  0.20148118  0.20148118\n",
      "   0.20148118  0.20148118  0.20148118  0.20148118  0.20148118  0.20148118\n",
      "   0.20148118  0.20148118  0.20148118  0.20148118  0.20148118  0.20148118\n",
      "   0.20148118  0.20148118  0.20148118  0.20148118  0.20148118  0.20148118\n",
      "   0.20148118  0.20148118  0.20148118  0.20148118  0.20148118  0.20148118\n",
      "   0.20148118  0.20148118  0.20148118  0.20148118  0.20148118  0.20148118\n",
      "   0.20148118  0.20148118  0.20148118  0.20148118  0.20148118  0.20148118\n",
      "   0.20148118  0.20148118  0.20148118  0.20148118  0.20148118  0.20148118\n",
      "   0.20148118  0.20148118  0.20148118  0.20148118  0.20148118  0.20148118\n",
      "   0.20148118  0.20148118  0.20148118  0.20148118  0.20148118  0.20148118\n",
      "   0.20148118  0.20148118  0.20148118  0.20148118  0.20148118  0.20148118\n",
      "   0.20148118  0.20148118  0.20148118  0.20148118  0.20148118  0.20148118\n",
      "   0.20148118  0.20148118  0.20148118  0.20148118  0.20148118  0.20148118\n",
      "   0.20148118  0.20148118  0.20148118  0.20148118  0.20148118  0.20148118\n",
      "   0.20148118  0.20148118  0.20148118  0.20148118  0.20148118  0.20148118\n",
      "   0.20148118  0.20148118  0.20148118  0.20148118  0.20148118  0.20148118\n",
      "   0.20148118  0.20148118  0.20148118  0.20148118  0.20148118  0.20148118\n",
      "   0.20148118  0.20148118  0.20148118  0.20148118  0.20148118  0.20148118\n",
      "   0.20148118  0.20148118  0.20148118  0.20148118  0.20148118  0.20148118\n",
      "   0.20148118  0.20148118  0.20148118  0.20148118  0.20148118  0.20148118\n",
      "   0.20148118  0.20148118  0.20148118  0.20148118  0.20148118  0.20148118\n",
      "   0.20148118  0.20148118  0.20148118  0.20148118  0.20148118  0.20148118\n",
      "   0.20148118  0.20148118  0.20148118  0.20148118  0.20148118  0.20148118\n",
      "   0.20148118  0.20148118  0.20148118  0.20148118  0.20148118  0.20148118\n",
      "   0.20148118  0.20148118  0.20148118  0.20148118  0.20148118  0.20148118\n",
      "   0.20148118  0.20148118  0.20148118  0.20148118  0.20148118  0.20148118\n",
      "   0.20148118  0.20148118  0.20148118  0.20148118  0.20148118  0.20148118\n",
      "   0.20148118  0.20148118  0.20148118  0.20148118  0.20148118  0.20148118\n",
      "   0.20148118  0.20148118  0.20148118  0.20148118  0.20148118  0.20148118\n",
      "   0.20148118  0.20148118  0.20148118  0.20148118]]\n"
     ]
    }
   ],
   "source": [
    "specfile = './spec.pkl'\n",
    "spec = load_pickle(specfile)\n",
    "spec.optimization_hyperparams['num_iters']=10\n",
    "spec.optimization_hyperparams['alpha_theta']=0.01\n",
    "spec.optimization_hyperparams['alpha_lamb']=0.01\n",
    "# Run Seldonian algorithm \n",
    "SA = SeldonianAlgorithm(spec)\n",
    "passed_safety,solution = SA.run()\n",
    "if passed_safety:\n",
    "    print(\"Passed safety test!\")\n",
    "    print(\"The solution found is:\")\n",
    "    print(solution)\n",
    "else:\n",
    "    print(\"No Solution Found\")"
   ]
  },
  {
   "cell_type": "code",
   "execution_count": 9,
   "id": "7fcb242e",
   "metadata": {},
   "outputs": [
    {
     "name": "stdout",
     "output_type": "stream",
     "text": [
      "Primary objective evaluated on safety dataset:\n",
      "2.4126129772553906\n"
     ]
    },
    {
     "name": "stderr",
     "output_type": "stream",
     "text": [
      "  File 'C:\\Users\\faria\\anaconda3\\lib\\site-packages\\seldonian\\seldonian_algorithm.py', line 271\n",
      "    elementwise comparison failed; returning scalar instead, but in the future will perform elementwise comparison\n"
     ]
    }
   ],
   "source": [
    "print(\"Primary objective evaluated on safety dataset:\")\n",
    "print(SA.evaluate_primary_objective(branch='safety_test',theta=solution))"
   ]
  },
  {
   "cell_type": "code",
   "execution_count": null,
   "id": "d714ecc9",
   "metadata": {},
   "outputs": [],
   "source": []
  }
 ],
 "metadata": {
  "kernelspec": {
   "display_name": "Python 3 (ipykernel)",
   "language": "python",
   "name": "python3"
  },
  "language_info": {
   "codemirror_mode": {
    "name": "ipython",
    "version": 3
   },
   "file_extension": ".py",
   "mimetype": "text/x-python",
   "name": "python",
   "nbconvert_exporter": "python",
   "pygments_lexer": "ipython3",
   "version": "3.9.7"
  }
 },
 "nbformat": 4,
 "nbformat_minor": 5
}
